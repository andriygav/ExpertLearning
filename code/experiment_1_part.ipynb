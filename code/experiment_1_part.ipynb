{
 "cells": [
  {
   "cell_type": "code",
   "execution_count": 2,
   "metadata": {},
   "outputs": [],
   "source": [
    "import numpy as np\n",
    "\n",
    "import matplotlib.pyplot as plt\n",
    "\n",
    "import pandas as pd\n",
    "\n",
    "from matplotlib import gridspec\n",
    "\n",
    "from sklearn.preprocessing import scale\n",
    "\n",
    "from tqdm.notebook import tqdm\n",
    "\n",
    "import json\n",
    "\n",
    "import torch\n",
    "import torch.nn as nn\n",
    "import torch.nn.functional as F\n",
    "\n",
    "from torch.utils.data import DataLoader\n",
    "\n",
    "from torch.utils.data import Dataset\n",
    "\n",
    "from sklearn.utils import shuffle\n",
    "from scipy.special import softmax\n",
    "\n",
    "from PIL import Image\n",
    "\n",
    "from PIL import ImageDraw\n",
    "\n",
    "import pickle\n",
    "\n",
    "from sklearn.model_selection import ParameterGrid"
   ]
  },
  {
   "cell_type": "code",
   "execution_count": 3,
   "metadata": {},
   "outputs": [],
   "source": [
    "from mixturelib.mixture import MixtureEM\n",
    "from mixturelib.local_models import EachModelLinear, EachModel\n",
    "from mixturelib.hyper_models import HyperExpertNN, HyperModelDirichlet\n",
    "\n",
    "from mixturelib.regularizers import RegularizeModel"
   ]
  },
  {
   "cell_type": "code",
   "execution_count": 4,
   "metadata": {},
   "outputs": [],
   "source": [
    "import matplotlib.pyplot as plt\n",
    "from mpl_toolkits import mplot3d"
   ]
  },
  {
   "cell_type": "code",
   "execution_count": 5,
   "metadata": {},
   "outputs": [
    {
     "data": {
      "text/plain": [
       "'cpu'"
      ]
     },
     "execution_count": 5,
     "metadata": {},
     "output_type": "execute_result"
    }
   ],
   "source": [
    "device = 'cuda' if torch.cuda.is_available() else 'cpu'\n",
    "device"
   ]
  },
  {
   "cell_type": "code",
   "execution_count": 66,
   "metadata": {},
   "outputs": [],
   "source": [
    "def extract_picture(model):\n",
    "    TEMP = np.array([m.W.data.numpy().reshape(-1) for m in model.ListOfModels])\n",
    "\n",
    "    CIRCLE = np.zeros_like(TEMP)\n",
    "\n",
    "    for i, param in enumerate(TEMP):\n",
    "        x0, y0 = 0.5*param[:2]\n",
    "        r = (param[2] + x0**2 + y0**2)**0.5\n",
    "        CIRCLE[i] = x0, y0, r\n",
    "        \n",
    "    idx = np.argmax(model.predict(X_tr)[1], axis = 1)\n",
    "    \n",
    "    return CIRCLE, idx"
   ]
  },
  {
   "cell_type": "code",
   "execution_count": 25,
   "metadata": {},
   "outputs": [],
   "source": [
    "np.random.seed(0)\n",
    "N = 100\n",
    "n = 3\n",
    "r1 = np.sqrt(0.5)\n",
    "r2 = np.sqrt(0.7)\n",
    "r3 = np.sqrt(1.1)\n",
    "phi = np.linspace(0, 2*np.pi, N)\n",
    "\n",
    "x1_0 = 0\n",
    "y1_0 = 0\n",
    "\n",
    "x2_0 = 2.5\n",
    "y2_0 = 4\n",
    "\n",
    "x3_0 = 0\n",
    "y3_0 = 5\n",
    "\n",
    "x = np.hstack([r1*np.sin(phi) + x1_0, r2*np.sin(phi) + x2_0, r3*np.sin(phi) + x3_0])\n",
    "y = np.hstack([r1*np.cos(phi) + y1_0, r2*np.cos(phi) + y2_0, r3*np.cos(phi) + y3_0])\n"
   ]
  },
  {
   "cell_type": "code",
   "execution_count": 26,
   "metadata": {},
   "outputs": [
    {
     "data": {
      "image/png": "[encoded data removed]",
      "text/plain": [
       "<Figure size 432x288 with 1 Axes>"
      ]
     },
     "metadata": {
      "needs_background": "light"
     },
     "output_type": "display_data"
    }
   ],
   "source": [
    "plt.plot(x, y, '.')\n",
    "\n",
    "plt.show()"
   ]
  },
  {
   "cell_type": "code",
   "execution_count": 29,
   "metadata": {},
   "outputs": [],
   "source": [
    "X = np.vstack([x, y, np.ones_like(x)]).T\n",
    "Y = x**2+y**2\n",
    "\n",
    "X_tr = torch.FloatTensor(X).to(device)\n",
    "Y_tr = torch.FloatTensor(Y).view([-1,1]).to(device)"
   ]
  },
  {
   "cell_type": "code",
   "execution_count": 183,
   "metadata": {},
   "outputs": [],
   "source": [
    "gamma = 0.1\n",
    "beta = 0.01\n",
    "n = len(X[0])\n",
    "K = 3\n",
    "w1 = [0, 0, 1]\n",
    "w2 = [5, 8, -20]\n",
    "w3 = [0, 10, -20]\n",
    "torch.manual_seed(0)\n",
    "LIST_A = [torch.FloatTensor([gamma]*n).to(device) for _ in range(K)]\n",
    "LIST_w = [torch.FloatTensor(w1).view(-1,1).to(device),  \n",
    "          torch.FloatTensor(w2).view(-1,1).to(device),\n",
    "          torch.FloatTensor(w3).view(-1,1).to(device)]\n",
    "\n",
    "\n",
    "LoM = []\n",
    "for k in range(K):\n",
    "    LoM.append(EachModelLinear(input_dim = n, \n",
    "                                   device = device, \n",
    "                                   A = LIST_A[k], \n",
    "                                   w = LIST_w[k],\n",
    "                                   OptimizedHyper={}))\n",
    "\n",
    "\n",
    "HypPar = {'beta': beta, 'alpha': 1e-5}\n",
    "\n",
    "\n",
    "HpMd = HyperExpertNN(input_dim=n, output_dim = K, device = device)\n",
    "\n",
    "model = MixtureEM(HyperParameters = HypPar,\n",
    "                  HyperModel = HpMd, \n",
    "                  ListOfModels = LoM,\n",
    "                  device = device, model_type='sample')\n"
   ]
  },
  {
   "cell_type": "code",
   "execution_count": 200,
   "metadata": {},
   "outputs": [
    {
     "data": {
      "application/vnd.jupyter.widget-view+json": {
       "model_id": "3e74b0121b824584941baa0f3641f3eb",
       "version_major": 2,
       "version_minor": 0
      },
      "text/plain": [
       "HBox(children=(HTML(value=''), FloatProgress(value=0.0, max=10.0), HTML(value='')))"
      ]
     },
     "metadata": {},
     "output_type": "display_data"
    },
    {
     "name": "stdout",
     "output_type": "stream",
     "text": [
      "\n"
     ]
    }
   ],
   "source": [
    "model.fit(X_tr, Y_tr, 10, progress=tqdm)"
   ]
  },
  {
   "cell_type": "code",
   "execution_count": 201,
   "metadata": {},
   "outputs": [],
   "source": [
    "CIRCLE, idx = extract_picture(model)"
   ]
  },
  {
   "cell_type": "code",
   "execution_count": 202,
   "metadata": {},
   "outputs": [
    {
     "data": {
      "image/png": "[encoded data removed]",
      "text/plain": [
       "<Figure size 432x288 with 1 Axes>"
      ]
     },
     "metadata": {
      "needs_background": "light"
     },
     "output_type": "display_data"
    }
   ],
   "source": [
    "colors = ['green', 'orange', 'red']\n",
    "for i in range(len(CIRCLE)):\n",
    "    _ = plt.plot(x[idx == i], y[idx == i], '.', color = colors[i])\n",
    "    \n",
    "    x0, y0, r = CIRCLE[i]\n",
    "    x_plot = x0 + r*np.sin(phi)\n",
    "    y_plot = y0 + r*np.cos(phi)\n",
    "\n",
    "    _ = plt.plot(x_plot, y_plot, '-', color = colors[i])\n",
    " "
   ]
  },
  {
   "cell_type": "code",
   "execution_count": null,
   "metadata": {},
   "outputs": [],
   "source": []
  }
 ],
 "metadata": {
  "kernelspec": {
   "display_name": "Python 3",
   "language": "python",
   "name": "python3"
  },
  "language_info": {
   "codemirror_mode": {
    "name": "ipython",
    "version": 3
   },
   "file_extension": ".py",
   "mimetype": "text/x-python",
   "name": "python",
   "nbconvert_exporter": "python",
   "pygments_lexer": "ipython3",
   "version": "3.7.3"
  }
 },
 "nbformat": 4,
 "nbformat_minor": 4
}
