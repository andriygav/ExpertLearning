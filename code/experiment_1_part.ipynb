{
  "nbformat": 4,
  "nbformat_minor": 0,
  "metadata": {
    "kernelspec": {
      "display_name": "Python 3",
      "language": "python",
      "name": "python3"
    },
    "language_info": {
      "codemirror_mode": {
        "name": "ipython",
        "version": 3
      },
      "file_extension": ".py",
      "mimetype": "text/x-python",
      "name": "python",
      "nbconvert_exporter": "python",
      "pygments_lexer": "ipython3",
      "version": "3.7.3"
    },
    "colab": {
      "name": "experiment_1_part.ipynb",
      "provenance": []
    },
    "widgets": {
      "application/vnd.jupyter.widget-state+json": {
        "287912acb8b7458db2c2ca1f9185b92f": {
          "model_module": "@jupyter-widgets/controls",
          "model_name": "HBoxModel",
          "state": {
            "_view_name": "HBoxView",
            "_dom_classes": [],
            "_model_name": "HBoxModel",
            "_view_module": "@jupyter-widgets/controls",
            "_model_module_version": "1.5.0",
            "_view_count": null,
            "_view_module_version": "1.5.0",
            "box_style": "",
            "layout": "IPY_MODEL_3471e5c90ffd4cca993184bdc358863f",
            "_model_module": "@jupyter-widgets/controls",
            "children": [
              "IPY_MODEL_508ff2f2deb54b85a6da1abd0c125a10",
              "IPY_MODEL_18e7b8f1bdf3451c9dc4103077c15014"
            ]
          }
        },
        "3471e5c90ffd4cca993184bdc358863f": {
          "model_module": "@jupyter-widgets/base",
          "model_name": "LayoutModel",
          "state": {
            "_view_name": "LayoutView",
            "grid_template_rows": null,
            "right": null,
            "justify_content": null,
            "_view_module": "@jupyter-widgets/base",
            "overflow": null,
            "_model_module_version": "1.2.0",
            "_view_count": null,
            "flex_flow": null,
            "width": null,
            "min_width": null,
            "border": null,
            "align_items": null,
            "bottom": null,
            "_model_module": "@jupyter-widgets/base",
            "top": null,
            "grid_column": null,
            "overflow_y": null,
            "overflow_x": null,
            "grid_auto_flow": null,
            "grid_area": null,
            "grid_template_columns": null,
            "flex": null,
            "_model_name": "LayoutModel",
            "justify_items": null,
            "grid_row": null,
            "max_height": null,
            "align_content": null,
            "visibility": null,
            "align_self": null,
            "height": null,
            "min_height": null,
            "padding": null,
            "grid_auto_rows": null,
            "grid_gap": null,
            "max_width": null,
            "order": null,
            "_view_module_version": "1.2.0",
            "grid_template_areas": null,
            "object_position": null,
            "object_fit": null,
            "grid_auto_columns": null,
            "margin": null,
            "display": null,
            "left": null
          }
        },
        "508ff2f2deb54b85a6da1abd0c125a10": {
          "model_module": "@jupyter-widgets/controls",
          "model_name": "FloatProgressModel",
          "state": {
            "_view_name": "ProgressView",
            "style": "IPY_MODEL_a4d8d1b4a1164190be719a23a7762c87",
            "_dom_classes": [],
            "description": "100%",
            "_model_name": "FloatProgressModel",
            "bar_style": "success",
            "max": 150,
            "_view_module": "@jupyter-widgets/controls",
            "_model_module_version": "1.5.0",
            "value": 150,
            "_view_count": null,
            "_view_module_version": "1.5.0",
            "orientation": "horizontal",
            "min": 0,
            "description_tooltip": null,
            "_model_module": "@jupyter-widgets/controls",
            "layout": "IPY_MODEL_60f2957edb0d4302b0742a5576988901"
          }
        },
        "18e7b8f1bdf3451c9dc4103077c15014": {
          "model_module": "@jupyter-widgets/controls",
          "model_name": "HTMLModel",
          "state": {
            "_view_name": "HTMLView",
            "style": "IPY_MODEL_c48a70664e944590acb4cf1221702ab5",
            "_dom_classes": [],
            "description": "",
            "_model_name": "HTMLModel",
            "placeholder": "​",
            "_view_module": "@jupyter-widgets/controls",
            "_model_module_version": "1.5.0",
            "value": " 150/150 [01:35&lt;00:00,  1.57it/s]",
            "_view_count": null,
            "_view_module_version": "1.5.0",
            "description_tooltip": null,
            "_model_module": "@jupyter-widgets/controls",
            "layout": "IPY_MODEL_92edde1c72ef4726af45db188dad1293"
          }
        },
        "a4d8d1b4a1164190be719a23a7762c87": {
          "model_module": "@jupyter-widgets/controls",
          "model_name": "ProgressStyleModel",
          "state": {
            "_view_name": "StyleView",
            "_model_name": "ProgressStyleModel",
            "description_width": "initial",
            "_view_module": "@jupyter-widgets/base",
            "_model_module_version": "1.5.0",
            "_view_count": null,
            "_view_module_version": "1.2.0",
            "bar_color": null,
            "_model_module": "@jupyter-widgets/controls"
          }
        },
        "60f2957edb0d4302b0742a5576988901": {
          "model_module": "@jupyter-widgets/base",
          "model_name": "LayoutModel",
          "state": {
            "_view_name": "LayoutView",
            "grid_template_rows": null,
            "right": null,
            "justify_content": null,
            "_view_module": "@jupyter-widgets/base",
            "overflow": null,
            "_model_module_version": "1.2.0",
            "_view_count": null,
            "flex_flow": null,
            "width": null,
            "min_width": null,
            "border": null,
            "align_items": null,
            "bottom": null,
            "_model_module": "@jupyter-widgets/base",
            "top": null,
            "grid_column": null,
            "overflow_y": null,
            "overflow_x": null,
            "grid_auto_flow": null,
            "grid_area": null,
            "grid_template_columns": null,
            "flex": null,
            "_model_name": "LayoutModel",
            "justify_items": null,
            "grid_row": null,
            "max_height": null,
            "align_content": null,
            "visibility": null,
            "align_self": null,
            "height": null,
            "min_height": null,
            "padding": null,
            "grid_auto_rows": null,
            "grid_gap": null,
            "max_width": null,
            "order": null,
            "_view_module_version": "1.2.0",
            "grid_template_areas": null,
            "object_position": null,
            "object_fit": null,
            "grid_auto_columns": null,
            "margin": null,
            "display": null,
            "left": null
          }
        },
        "c48a70664e944590acb4cf1221702ab5": {
          "model_module": "@jupyter-widgets/controls",
          "model_name": "DescriptionStyleModel",
          "state": {
            "_view_name": "StyleView",
            "_model_name": "DescriptionStyleModel",
            "description_width": "",
            "_view_module": "@jupyter-widgets/base",
            "_model_module_version": "1.5.0",
            "_view_count": null,
            "_view_module_version": "1.2.0",
            "_model_module": "@jupyter-widgets/controls"
          }
        },
        "92edde1c72ef4726af45db188dad1293": {
          "model_module": "@jupyter-widgets/base",
          "model_name": "LayoutModel",
          "state": {
            "_view_name": "LayoutView",
            "grid_template_rows": null,
            "right": null,
            "justify_content": null,
            "_view_module": "@jupyter-widgets/base",
            "overflow": null,
            "_model_module_version": "1.2.0",
            "_view_count": null,
            "flex_flow": null,
            "width": null,
            "min_width": null,
            "border": null,
            "align_items": null,
            "bottom": null,
            "_model_module": "@jupyter-widgets/base",
            "top": null,
            "grid_column": null,
            "overflow_y": null,
            "overflow_x": null,
            "grid_auto_flow": null,
            "grid_area": null,
            "grid_template_columns": null,
            "flex": null,
            "_model_name": "LayoutModel",
            "justify_items": null,
            "grid_row": null,
            "max_height": null,
            "align_content": null,
            "visibility": null,
            "align_self": null,
            "height": null,
            "min_height": null,
            "padding": null,
            "grid_auto_rows": null,
            "grid_gap": null,
            "max_width": null,
            "order": null,
            "_view_module_version": "1.2.0",
            "grid_template_areas": null,
            "object_position": null,
            "object_fit": null,
            "grid_auto_columns": null,
            "margin": null,
            "display": null,
            "left": null
          }
        }
      }
    }
  },
  "cells": [
    {
      "cell_type": "code",
      "metadata": {
        "id": "IwvspKj5Qp8y",
        "outputId": "8520be5f-31e3-455e-8ec5-7f0ae5c01a14",
        "colab": {
          "base_uri": "https://localhost:8080/"
        }
      },
      "source": [
        "# for colab\n",
        "!pip install mixturelib"
      ],
      "execution_count": 1,
      "outputs": [
        {
          "output_type": "stream",
          "text": [
            "Collecting mixturelib\n",
            "  Downloading https://files.pythonhosted.org/packages/dd/cf/cd2f07fe44c8934b8a5ce4604eb3fb3edcfce492cdaffdea8c8a05e3ef99/mixturelib-0.4.0-py3-none-any.whl\n",
            "Requirement already satisfied: torch>=1.3.1+cpu in /usr/local/lib/python3.6/dist-packages (from mixturelib) (1.7.0+cu101)\n",
            "Requirement already satisfied: numpy>=1.18.1 in /usr/local/lib/python3.6/dist-packages (from mixturelib) (1.19.4)\n",
            "Requirement already satisfied: dataclasses in /usr/local/lib/python3.6/dist-packages (from torch>=1.3.1+cpu->mixturelib) (0.8)\n",
            "Requirement already satisfied: future in /usr/local/lib/python3.6/dist-packages (from torch>=1.3.1+cpu->mixturelib) (0.16.0)\n",
            "Requirement already satisfied: typing-extensions in /usr/local/lib/python3.6/dist-packages (from torch>=1.3.1+cpu->mixturelib) (3.7.4.3)\n",
            "Installing collected packages: mixturelib\n",
            "Successfully installed mixturelib-0.4.0\n"
          ],
          "name": "stdout"
        }
      ]
    },
    {
      "cell_type": "code",
      "metadata": {
        "id": "w8e2hcO1Qo8O"
      },
      "source": [
        "import numpy as np\n",
        "\n",
        "import matplotlib.pyplot as plt\n",
        "\n",
        "import pandas as pd\n",
        "\n",
        "from matplotlib import gridspec\n",
        "\n",
        "from sklearn.preprocessing import scale\n",
        "\n",
        "from tqdm.notebook import tqdm\n",
        "\n",
        "import json\n",
        "\n",
        "import torch\n",
        "import torch.nn as nn\n",
        "import torch.nn.functional as F\n",
        "\n",
        "from torch.utils.data import DataLoader\n",
        "\n",
        "from torch.utils.data import Dataset\n",
        "\n",
        "from sklearn.utils import shuffle\n",
        "from scipy.special import softmax\n",
        "\n",
        "from PIL import Image\n",
        "\n",
        "from PIL import ImageDraw\n",
        "\n",
        "import pickle\n",
        "\n",
        "from sklearn.model_selection import ParameterGrid"
      ],
      "execution_count": 2,
      "outputs": []
    },
    {
      "cell_type": "code",
      "metadata": {
        "id": "AaBcX8gbQo8Q"
      },
      "source": [
        "from mixturelib.mixture import MixtureEM\n",
        "from mixturelib.local_models import EachModelLinear, EachModel\n",
        "from mixturelib.hyper_models import HyperExpertNN, HyperModelDirichlet\n",
        "\n",
        "from mixturelib.regularizers import RegularizeModel"
      ],
      "execution_count": 3,
      "outputs": []
    },
    {
      "cell_type": "code",
      "metadata": {
        "id": "WmsUam3GQo8R"
      },
      "source": [
        "import matplotlib.pyplot as plt\n",
        "from mpl_toolkits import mplot3d"
      ],
      "execution_count": 4,
      "outputs": []
    },
    {
      "cell_type": "code",
      "metadata": {
        "id": "Y3hCyDf0Qo8R",
        "outputId": "d18c2256-cf69-4278-ed59-4c6118c4af80",
        "colab": {
          "base_uri": "https://localhost:8080/",
          "height": 37
        }
      },
      "source": [
        "device = 'cuda' if torch.cuda.is_available() else 'cpu'\n",
        "device"
      ],
      "execution_count": 5,
      "outputs": [
        {
          "output_type": "execute_result",
          "data": {
            "application/vnd.google.colaboratory.intrinsic+json": {
              "type": "string"
            },
            "text/plain": [
              "'cpu'"
            ]
          },
          "metadata": {
            "tags": []
          },
          "execution_count": 5
        }
      ]
    },
    {
      "cell_type": "code",
      "metadata": {
        "id": "u0YCV1OjQo8R"
      },
      "source": [
        "def extract_picture(model):\n",
        "    TEMP = np.array([m.W.data.numpy().reshape(-1) for m in model.ListOfModels])\n",
        "\n",
        "    CIRCLE = np.zeros_like(TEMP)\n",
        "\n",
        "    for i, param in enumerate(TEMP):\n",
        "        x0, y0 = 0.5*param[:2]\n",
        "        r = (param[2] + x0**2 + y0**2)**0.5\n",
        "        CIRCLE[i] = x0, y0, r\n",
        "        \n",
        "    idx = np.argmax(model.predict(X_tr)[1], axis = 1)\n",
        "    \n",
        "    return CIRCLE, idx"
      ],
      "execution_count": 6,
      "outputs": []
    },
    {
      "cell_type": "code",
      "metadata": {
        "id": "zLQO_8YsQo8S"
      },
      "source": [
        "np.random.seed(0)\n",
        "N = 100\n",
        "n = 3\n",
        "r1 = np.sqrt(0.5)\n",
        "r2 = np.sqrt(0.7)\n",
        "r3 = np.sqrt(1.1)\n",
        "phi = np.linspace(0, 2*np.pi, N)\n",
        "\n",
        "x1_0 = 0\n",
        "y1_0 = 0\n",
        "\n",
        "x2_0 = 2.5\n",
        "y2_0 = 4\n",
        "\n",
        "x3_0 = 0\n",
        "y3_0 = 5\n",
        "\n",
        "x = np.hstack([r1*np.sin(phi) + x1_0, r2*np.sin(phi) + x2_0, r3*np.sin(phi) + x3_0])\n",
        "y = np.hstack([r1*np.cos(phi) + y1_0, r2*np.cos(phi) + y2_0, r3*np.cos(phi) + y3_0])\n"
      ],
      "execution_count": 7,
      "outputs": []
    },
    {
      "cell_type": "code",
      "metadata": {
        "id": "3uu8ZIj3Qo8S",
        "outputId": "e39294ff-51b8-4af3-f4de-26c093ab9559",
        "colab": {
          "base_uri": "https://localhost:8080/",
          "height": 265
        }
      },
      "source": [
        "plt.plot(x, y, '.')\n",
        "\n",
        "plt.show()"
      ],
      "execution_count": 8,
      "outputs": [
        {
          "output_type": "display_data",
          "data": {
            "image/png": "[encoded data removed]",
            "text/plain": [
              "<Figure size 432x288 with 1 Axes>"
            ]
          },
          "metadata": {
            "tags": [],
            "needs_background": "light"
          }
        }
      ]
    },
    {
      "cell_type": "code",
      "metadata": {
        "id": "ZbI3G9s2Qo8T"
      },
      "source": [
        "X = np.vstack([x, y, np.ones_like(x)]).T\n",
        "Y = x**2+y**2\n",
        "\n",
        "X_tr = torch.FloatTensor(X).to(device)\n",
        "Y_tr = torch.FloatTensor(Y).view([-1,1]).to(device)"
      ],
      "execution_count": 9,
      "outputs": []
    },
    {
      "cell_type": "code",
      "metadata": {
        "id": "Y_bHxC9SQo8T"
      },
      "source": [
        "gamma = 0.1\n",
        "beta = 0.01\n",
        "n = len(X[0])\n",
        "K = 3\n",
        "w1 = [0, 0, 1]\n",
        "w2 = [5, 8, -20]\n",
        "w3 = [0, 10, -20]\n",
        "torch.manual_seed(0)\n",
        "LIST_A = [torch.FloatTensor([gamma]*n).to(device) for _ in range(K)]\n",
        "LIST_w = [torch.FloatTensor(w1).view(-1,1).to(device),  \n",
        "          torch.FloatTensor(w2).view(-1,1).to(device),\n",
        "          torch.FloatTensor(w3).view(-1,1).to(device)]\n",
        "\n",
        "\n",
        "LoM = []\n",
        "for k in range(K):\n",
        "    LoM.append(EachModelLinear(input_dim = n, \n",
        "                                   device = device, \n",
        "                                   A = LIST_A[k], \n",
        "                                   w = LIST_w[k],\n",
        "                                   OptimizedHyper={}))\n",
        "\n",
        "\n",
        "HypPar = {'beta': beta, 'alpha': 1e-5}\n",
        "\n",
        "\n",
        "HpMd = HyperExpertNN(input_dim=n, output_dim = K, device = device)\n",
        "\n",
        "model = MixtureEM(HyperParameters = HypPar,\n",
        "                  HyperModel = HpMd, \n",
        "                  ListOfModels = LoM,\n",
        "                  device = device, model_type='sample')\n"
      ],
      "execution_count": 21,
      "outputs": []
    },
    {
      "cell_type": "code",
      "metadata": {
        "id": "F5hlv1EmQo8T",
        "outputId": "b7aa53d5-8aa8-421e-fb2d-0774ce414773",
        "colab": {
          "base_uri": "https://localhost:8080/",
          "height": 66,
          "referenced_widgets": [
            "287912acb8b7458db2c2ca1f9185b92f",
            "3471e5c90ffd4cca993184bdc358863f",
            "508ff2f2deb54b85a6da1abd0c125a10",
            "18e7b8f1bdf3451c9dc4103077c15014",
            "a4d8d1b4a1164190be719a23a7762c87",
            "60f2957edb0d4302b0742a5576988901",
            "c48a70664e944590acb4cf1221702ab5",
            "92edde1c72ef4726af45db188dad1293"
          ]
        }
      },
      "source": [
        "list_of_circles = []\n",
        "for i in tqdm(range(150)):\n",
        "    model.fit(X_tr, Y_tr, 1)\n",
        "    list_of_circles.append(extract_picture(model))"
      ],
      "execution_count": 22,
      "outputs": [
        {
          "output_type": "display_data",
          "data": {
            "application/vnd.jupyter.widget-view+json": {
              "model_id": "287912acb8b7458db2c2ca1f9185b92f",
              "version_minor": 0,
              "version_major": 2
            },
            "text/plain": [
              "HBox(children=(FloatProgress(value=0.0, max=150.0), HTML(value='')))"
            ]
          },
          "metadata": {
            "tags": []
          }
        },
        {
          "output_type": "stream",
          "text": [
            "\n"
          ],
          "name": "stdout"
        }
      ]
    },
    {
      "cell_type": "code",
      "metadata": {
        "id": "t515O2zZUS97"
      },
      "source": [
        "CIRCLE, idx = extract_picture(model)"
      ],
      "execution_count": 23,
      "outputs": []
    },
    {
      "cell_type": "code",
      "metadata": {
        "id": "sGtT1S4XQo8U",
        "outputId": "9e34da48-d254-400d-8570-cab8da213498",
        "colab": {
          "base_uri": "https://localhost:8080/",
          "height": 265
        }
      },
      "source": [
        "colors = ['green', 'orange', 'red']\n",
        "for i in range(len(CIRCLE)):\n",
        "    _ = plt.plot(x[idx == i], y[idx == i], '.', color = colors[i])\n",
        "    \n",
        "    x0, y0, r = CIRCLE[i]\n",
        "    x_plot = x0 + r*np.sin(phi)\n",
        "    y_plot = y0 + r*np.cos(phi)\n",
        "\n",
        "    _ = plt.plot(x_plot, y_plot, '-', color = colors[i])\n",
        " "
      ],
      "execution_count": 24,
      "outputs": [
        {
          "output_type": "display_data",
          "data": {
            "image/png": "[encoded data removed]",
            "text/plain": [
              "<Figure size 432x288 with 1 Axes>"
            ]
          },
          "metadata": {
            "tags": [],
            "needs_background": "light"
          }
        }
      ]
    },
    {
      "cell_type": "code",
      "metadata": {
        "id": "0zSrpakaQo8U"
      },
      "source": [
        ""
      ],
      "execution_count": null,
      "outputs": []
    }
  ]
}