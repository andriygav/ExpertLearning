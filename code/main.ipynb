{
 "cells": [
  {
   "cell_type": "code",
   "execution_count": 1,
   "metadata": {
    "colab": {},
    "colab_type": "code",
    "id": "rc1crqUeciqS"
   },
   "outputs": [],
   "source": [
    "import numpy as np\n",
    "\n",
    "import matplotlib.pyplot as plt\n",
    "\n",
    "import pandas as pd\n",
    "\n",
    "from matplotlib import gridspec\n",
    "\n",
    "from sklearn.preprocessing import scale\n",
    "\n",
    "from tqdm.notebook import tqdm\n",
    "\n",
    "import json\n",
    "\n",
    "import torch\n",
    "import torch.nn as nn\n",
    "import torch.nn.functional as F\n",
    "\n",
    "from torch.utils.data import DataLoader\n",
    "\n",
    "from torch.utils.data import Dataset\n",
    "\n",
    "from sklearn.utils import shuffle\n",
    "from scipy.special import softmax\n",
    "\n",
    "from PIL import Image\n",
    "\n",
    "from PIL import ImageDraw\n",
    "\n",
    "from skimage import morphology\n",
    "\n",
    "import pickle\n",
    "\n",
    "from sklearn.model_selection import ParameterGrid"
   ]
  },
  {
   "cell_type": "code",
   "execution_count": 3,
   "metadata": {
    "colab": {},
    "colab_type": "code",
    "id": "j7jt-sQXciqa"
   },
   "outputs": [],
   "source": [
    "from mixturelib.mixture import MixtureEM\n",
    "from mixturelib.local_models import EachModelLinear, EachModel\n",
    "from mixturelib.hyper_models import HyperExpertNN, HyperModelDirichlet\n",
    "\n",
    "from mixturelib.regularizers import RegularizeModel"
   ]
  },
  {
   "cell_type": "code",
   "execution_count": 4,
   "metadata": {
    "colab": {},
    "colab_type": "code",
    "id": "-6B_utJdciqe"
   },
   "outputs": [],
   "source": [
    "import matplotlib.pyplot as plt\n",
    "from mpl_toolkits import mplot3d"
   ]
  },
  {
   "cell_type": "code",
   "execution_count": 5,
   "metadata": {
    "colab": {
     "base_uri": "https://localhost:8080/",
     "height": 37
    },
    "colab_type": "code",
    "id": "zT-cuafzciqi",
    "outputId": "720bfa6e-9333-4ae2-b655-eef4d1f69395"
   },
   "outputs": [
    {
     "data": {
      "text/plain": [
       "'cpu'"
      ]
     },
     "execution_count": 5,
     "metadata": {},
     "output_type": "execute_result"
    }
   ],
   "source": [
    "device = 'cuda' if torch.cuda.is_available() else 'cpu'\n",
    "device"
   ]
  },
  {
   "cell_type": "code",
   "execution_count": 6,
   "metadata": {
    "colab": {},
    "colab_type": "code",
    "id": "8IIok0Acciqm"
   },
   "outputs": [],
   "source": [
    "def get_data(beta=0.1, l=200):\n",
    "    np.random.seed(0)\n",
    "\n",
    "    t = np.linspace(-2, 2, l)\n",
    "\n",
    "    p = 0.5\n",
    "    alpha = 0.9\n",
    "    x0 = 0\n",
    "    y0 = 0\n",
    "\n",
    "    x=x1=((t**2)/(2*p))*np.cos(alpha)-t*np.sin(alpha)+x0\n",
    "    y=y1=((t**2)/(2*p))*np.sin(alpha)+t*np.cos(alpha)+y0\n",
    "    X = np.vstack([x*y, y**2, x, y, np.ones_like(x)]).T\n",
    "    Y = x**2\n",
    "    w1 = np.linalg.inv(X.T@X)@X.T@Y\n",
    "    x1 += beta*np.random.randn(l)\n",
    "    y1 += beta*np.random.randn(l)\n",
    "\n",
    "\n",
    "    p = 0.3\n",
    "    alpha = 2\n",
    "    x0 = 5\n",
    "    y0 = 5\n",
    "    x=x2=((t**2)/(2*p))*np.cos(alpha)-t*np.sin(alpha)+x0\n",
    "    y=y2=((t**2)/(2*p))*np.sin(alpha)+t*np.cos(alpha)+y0\n",
    "    X = np.vstack([x*y, y**2, x, y, np.ones_like(x)]).T\n",
    "    Y = x**2\n",
    "    w2 = np.linalg.inv(X.T@X)@X.T@Y\n",
    "    x2 += beta*np.random.randn(l)\n",
    "    y2 += beta*np.random.randn(l)\n",
    "\n",
    "\n",
    "    x = np.hstack([x1, x2])\n",
    "    y = np.hstack([y1, y2])\n",
    "    \n",
    "    return x, y, w1, w2"
   ]
  },
  {
   "cell_type": "code",
   "execution_count": 7,
   "metadata": {
    "colab": {},
    "colab_type": "code",
    "id": "r0-w5guaciqr"
   },
   "outputs": [],
   "source": [
    "grid = ParameterGrid({'beta': np.linspace(0.001, 0.5, 5), \n",
    "                      'gamma': np.linspace(0.0001, 1.0, 5)})"
   ]
  },
  {
   "cell_type": "code",
   "execution_count": 8,
   "metadata": {
    "colab": {
     "base_uri": "https://localhost:8080/",
     "height": 49,
     "referenced_widgets": [
      "c521afb39e5d4a76ab24e07cc8e8ed5e",
      "ea688e51e778406e83cf4c9f536d8f6e",
      "6c471213c22548cfb1b33229c7b67ccc",
      "0a66fc00f24143c6a393942ec8d8ac0e",
      "845982ca995a4a679be20efc18047217",
      "be347c3f23564a98ab9f50e3444280f2",
      "a54ba847ad4b4717a160ba31cb3427fb",
      "71d0a7b52aa048e8b24ed41503ac474a"
     ]
    },
    "colab_type": "code",
    "id": "y4_vql6Eciqu",
    "outputId": "7fee0a64-60d2-422c-861d-66a7a20780e2"
   },
   "outputs": [
    {
     "data": {
      "application/vnd.jupyter.widget-view+json": {
       "model_id": "76a1477767f5463a93db4b2b8c09bfd8",
       "version_major": 2,
       "version_minor": 0
      },
      "text/plain": [
       "HBox(children=(FloatProgress(value=0.0, max=25.0), HTML(value='')))"
      ]
     },
     "metadata": {},
     "output_type": "display_data"
    },
    {
     "name": "stdout",
     "output_type": "stream",
     "text": [
      "\n"
     ]
    }
   ],
   "source": [
    "K = 2\n",
    "n = 5\n",
    "epochs = 5\n",
    "\n",
    "experiment_dict = dict()\n",
    "\n",
    "experiment_dict['betas'] = grid.param_grid[0]['beta']\n",
    "experiment_dict['gammas'] = grid.param_grid[0]['gamma']\n",
    "\n",
    "experiment_dict['K'] = K\n",
    "experiment_dict['n'] = n\n",
    "experiment_dict['epochs'] = epochs\n",
    "\n",
    "experiment_dict['results'] = dict()\n",
    "\n",
    "for item in tqdm(grid):\n",
    "    key = json.dumps(item)\n",
    "    experiment_dict['results'][key] = dict()\n",
    "\n",
    "    x, y, w1, w2 = get_data(beta=item['beta'])\n",
    "    \n",
    "    experiment_dict['results'][key]['x'] = x\n",
    "    experiment_dict['results'][key]['y'] = y\n",
    "    experiment_dict['results'][key]['w_real'] = [w1, w2]\n",
    "    \n",
    "    X = np.vstack([x*y, y**2, x, y, np.ones_like(x)]).T\n",
    "    Y = x**2\n",
    "\n",
    "    X_tr = torch.FloatTensor(X).to(device)\n",
    "    Y_tr = torch.FloatTensor(Y).view([-1,1]).to(device)\n",
    "\n",
    "\n",
    "    LIST_A = [torch.FloatTensor([item['gamma']]*n).to(device) for _ in range(K)]\n",
    "    LIST_w = [torch.FloatTensor(w1).view(-1,1).to(device),  \n",
    "              torch.FloatTensor(w2).view(-1,1).to(device)]\n",
    "\n",
    "\n",
    "    LoM = []\n",
    "    for k in range(K):\n",
    "        LoM.append(EachModelLinear(input_dim = n, \n",
    "                                   device = device, \n",
    "                                   A = LIST_A[k], \n",
    "                                   w = LIST_w[k],\n",
    "                                   OptimizedHyper={}))\n",
    "\n",
    "\n",
    "    HypPar = {'beta': item['beta'], 'alpha': 1e-5}\n",
    "\n",
    "\n",
    "    HpMd = HyperExpertNN(input_dim=5, output_dim = K, device = device)\n",
    "\n",
    "    model = MixtureEM(HyperParameters = HypPar,\n",
    "                      HyperModel = HpMd, \n",
    "                      ListOfModels = LoM,\n",
    "                      device = device, model_type='sample')\n",
    "\n",
    "    experiment_dict['results'][key]['models'] = []\n",
    "    for _ in range(epochs):\n",
    "        model.fit(X_tr, Y_tr, 1)\n",
    "        experiment_dict['results'][key]['models'].append(model)\n",
    "\n",
    "    w1_pred = LoM[0].W.view(-1).cpu().numpy()\n",
    "    w2_pred = LoM[1].W.view(-1).cpu().numpy()\n",
    "\n",
    "    experiment_dict['results'][key]['w_pred'] = [w1_pred, w2_pred]\n",
    "    experiment_dict['results'][key]['model'] = model"
   ]
  },
  {
   "cell_type": "code",
   "execution_count": 9,
   "metadata": {
    "colab": {},
    "colab_type": "code",
    "id": "oevMsNo-ciqz"
   },
   "outputs": [
    {
     "name": "stderr",
     "output_type": "stream",
     "text": [
      "/Library/Frameworks/Python.framework/Versions/3.6/lib/python3.6/site-packages/torch/storage.py:34: FutureWarning: pickle support for Storage will be removed in 1.5. Use `torch.save` instead\n",
      "  warnings.warn(\"pickle support for Storage will be removed in 1.5. Use `torch.save` instead\", FutureWarning)\n"
     ]
    }
   ],
   "source": [
    "with open('./dump/experiment.pkl', 'wb') as f:\n",
    "    pickle.dump(experiment_dict, f)"
   ]
  }
 ],
 "metadata": {
  "accelerator": "GPU",
  "colab": {
   "collapsed_sections": [],
   "name": "main.ipynb",
   "provenance": []
  },
  "kernelspec": {
   "display_name": "Python 3",
   "language": "python",
   "name": "python3"
  },
  "language_info": {
   "codemirror_mode": {
    "name": "ipython",
    "version": 3
   },
   "file_extension": ".py",
   "mimetype": "text/x-python",
   "name": "python",
   "nbconvert_exporter": "python",
   "pygments_lexer": "ipython3",
   "version": "3.6.2"
  },
  "widgets": {
   "application/vnd.jupyter.widget-state+json": {
    "0a66fc00f24143c6a393942ec8d8ac0e": {
     "model_module": "@jupyter-widgets/controls",
     "model_name": "HTMLModel",
     "state": {
      "_dom_classes": [],
      "_model_module": "@jupyter-widgets/controls",
      "_model_module_version": "1.5.0",
      "_model_name": "HTMLModel",
      "_view_count": null,
      "_view_module": "@jupyter-widgets/controls",
      "_view_module_version": "1.5.0",
      "_view_name": "HTMLView",
      "description": "",
      "description_tooltip": null,
      "layout": "IPY_MODEL_71d0a7b52aa048e8b24ed41503ac474a",
      "placeholder": "​",
      "style": "IPY_MODEL_a54ba847ad4b4717a160ba31cb3427fb",
      "value": " 31/100 [04:19&lt;09:36,  8.36s/it]"
     }
    },
    "6c471213c22548cfb1b33229c7b67ccc": {
     "model_module": "@jupyter-widgets/controls",
     "model_name": "FloatProgressModel",
     "state": {
      "_dom_classes": [],
      "_model_module": "@jupyter-widgets/controls",
      "_model_module_version": "1.5.0",
      "_model_name": "FloatProgressModel",
      "_view_count": null,
      "_view_module": "@jupyter-widgets/controls",
      "_view_module_version": "1.5.0",
      "_view_name": "ProgressView",
      "bar_style": "",
      "description": " 31%",
      "description_tooltip": null,
      "layout": "IPY_MODEL_be347c3f23564a98ab9f50e3444280f2",
      "max": 100,
      "min": 0,
      "orientation": "horizontal",
      "style": "IPY_MODEL_845982ca995a4a679be20efc18047217",
      "value": 31
     }
    },
    "71d0a7b52aa048e8b24ed41503ac474a": {
     "model_module": "@jupyter-widgets/base",
     "model_name": "LayoutModel",
     "state": {
      "_model_module": "@jupyter-widgets/base",
      "_model_module_version": "1.2.0",
      "_model_name": "LayoutModel",
      "_view_count": null,
      "_view_module": "@jupyter-widgets/base",
      "_view_module_version": "1.2.0",
      "_view_name": "LayoutView",
      "align_content": null,
      "align_items": null,
      "align_self": null,
      "border": null,
      "bottom": null,
      "display": null,
      "flex": null,
      "flex_flow": null,
      "grid_area": null,
      "grid_auto_columns": null,
      "grid_auto_flow": null,
      "grid_auto_rows": null,
      "grid_column": null,
      "grid_gap": null,
      "grid_row": null,
      "grid_template_areas": null,
      "grid_template_columns": null,
      "grid_template_rows": null,
      "height": null,
      "justify_content": null,
      "justify_items": null,
      "left": null,
      "margin": null,
      "max_height": null,
      "max_width": null,
      "min_height": null,
      "min_width": null,
      "object_fit": null,
      "object_position": null,
      "order": null,
      "overflow": null,
      "overflow_x": null,
      "overflow_y": null,
      "padding": null,
      "right": null,
      "top": null,
      "visibility": null,
      "width": null
     }
    },
    "845982ca995a4a679be20efc18047217": {
     "model_module": "@jupyter-widgets/controls",
     "model_name": "ProgressStyleModel",
     "state": {
      "_model_module": "@jupyter-widgets/controls",
      "_model_module_version": "1.5.0",
      "_model_name": "ProgressStyleModel",
      "_view_count": null,
      "_view_module": "@jupyter-widgets/base",
      "_view_module_version": "1.2.0",
      "_view_name": "StyleView",
      "bar_color": null,
      "description_width": "initial"
     }
    },
    "a54ba847ad4b4717a160ba31cb3427fb": {
     "model_module": "@jupyter-widgets/controls",
     "model_name": "DescriptionStyleModel",
     "state": {
      "_model_module": "@jupyter-widgets/controls",
      "_model_module_version": "1.5.0",
      "_model_name": "DescriptionStyleModel",
      "_view_count": null,
      "_view_module": "@jupyter-widgets/base",
      "_view_module_version": "1.2.0",
      "_view_name": "StyleView",
      "description_width": ""
     }
    },
    "be347c3f23564a98ab9f50e3444280f2": {
     "model_module": "@jupyter-widgets/base",
     "model_name": "LayoutModel",
     "state": {
      "_model_module": "@jupyter-widgets/base",
      "_model_module_version": "1.2.0",
      "_model_name": "LayoutModel",
      "_view_count": null,
      "_view_module": "@jupyter-widgets/base",
      "_view_module_version": "1.2.0",
      "_view_name": "LayoutView",
      "align_content": null,
      "align_items": null,
      "align_self": null,
      "border": null,
      "bottom": null,
      "display": null,
      "flex": null,
      "flex_flow": null,
      "grid_area": null,
      "grid_auto_columns": null,
      "grid_auto_flow": null,
      "grid_auto_rows": null,
      "grid_column": null,
      "grid_gap": null,
      "grid_row": null,
      "grid_template_areas": null,
      "grid_template_columns": null,
      "grid_template_rows": null,
      "height": null,
      "justify_content": null,
      "justify_items": null,
      "left": null,
      "margin": null,
      "max_height": null,
      "max_width": null,
      "min_height": null,
      "min_width": null,
      "object_fit": null,
      "object_position": null,
      "order": null,
      "overflow": null,
      "overflow_x": null,
      "overflow_y": null,
      "padding": null,
      "right": null,
      "top": null,
      "visibility": null,
      "width": null
     }
    },
    "c521afb39e5d4a76ab24e07cc8e8ed5e": {
     "model_module": "@jupyter-widgets/controls",
     "model_name": "HBoxModel",
     "state": {
      "_dom_classes": [],
      "_model_module": "@jupyter-widgets/controls",
      "_model_module_version": "1.5.0",
      "_model_name": "HBoxModel",
      "_view_count": null,
      "_view_module": "@jupyter-widgets/controls",
      "_view_module_version": "1.5.0",
      "_view_name": "HBoxView",
      "box_style": "",
      "children": [
       "IPY_MODEL_6c471213c22548cfb1b33229c7b67ccc",
       "IPY_MODEL_0a66fc00f24143c6a393942ec8d8ac0e"
      ],
      "layout": "IPY_MODEL_ea688e51e778406e83cf4c9f536d8f6e"
     }
    },
    "ea688e51e778406e83cf4c9f536d8f6e": {
     "model_module": "@jupyter-widgets/base",
     "model_name": "LayoutModel",
     "state": {
      "_model_module": "@jupyter-widgets/base",
      "_model_module_version": "1.2.0",
      "_model_name": "LayoutModel",
      "_view_count": null,
      "_view_module": "@jupyter-widgets/base",
      "_view_module_version": "1.2.0",
      "_view_name": "LayoutView",
      "align_content": null,
      "align_items": null,
      "align_self": null,
      "border": null,
      "bottom": null,
      "display": null,
      "flex": null,
      "flex_flow": null,
      "grid_area": null,
      "grid_auto_columns": null,
      "grid_auto_flow": null,
      "grid_auto_rows": null,
      "grid_column": null,
      "grid_gap": null,
      "grid_row": null,
      "grid_template_areas": null,
      "grid_template_columns": null,
      "grid_template_rows": null,
      "height": null,
      "justify_content": null,
      "justify_items": null,
      "left": null,
      "margin": null,
      "max_height": null,
      "max_width": null,
      "min_height": null,
      "min_width": null,
      "object_fit": null,
      "object_position": null,
      "order": null,
      "overflow": null,
      "overflow_x": null,
      "overflow_y": null,
      "padding": null,
      "right": null,
      "top": null,
      "visibility": null,
      "width": null
     }
    }
   }
  }
 },
 "nbformat": 4,
 "nbformat_minor": 1
}
