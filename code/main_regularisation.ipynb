{
 "cells": [
  {
   "cell_type": "code",
   "execution_count": 4,
   "metadata": {
    "colab": {},
    "colab_type": "code",
    "id": "rc1crqUeciqS"
   },
   "outputs": [],
   "source": [
    "import numpy as np\n",
    "\n",
    "import matplotlib.pyplot as plt\n",
    "\n",
    "import pandas as pd\n",
    "\n",
    "from matplotlib import gridspec\n",
    "\n",
    "from sklearn.preprocessing import scale\n",
    "\n",
    "from tqdm.notebook import tqdm\n",
    "\n",
    "import json\n",
    "\n",
    "import torch\n",
    "import torch.nn as nn\n",
    "import torch.nn.functional as F\n",
    "\n",
    "from torch.utils.data import DataLoader\n",
    "\n",
    "from torch.utils.data import Dataset\n",
    "\n",
    "from sklearn.utils import shuffle\n",
    "from scipy.special import softmax\n",
    "\n",
    "from PIL import Image\n",
    "\n",
    "from PIL import ImageDraw\n",
    "\n",
    "from skimage import morphology\n",
    "\n",
    "import pickle\n",
    "\n",
    "from sklearn.model_selection import ParameterGrid"
   ]
  },
  {
   "cell_type": "code",
   "execution_count": 18,
   "metadata": {
    "colab": {},
    "colab_type": "code",
    "id": "j7jt-sQXciqa"
   },
   "outputs": [],
   "source": [
    "from mixturelib.mixture import MixtureEM\n",
    "from mixturelib.local_models import EachModelLinear, EachModel\n",
    "from mixturelib.hyper_models import HyperExpertNN, HyperModelDirichlet\n",
    "\n",
    "from mixturelib.regularizers import RegularizeModel, RegularizeFunc"
   ]
  },
  {
   "cell_type": "code",
   "execution_count": 6,
   "metadata": {
    "colab": {},
    "colab_type": "code",
    "id": "-6B_utJdciqe"
   },
   "outputs": [],
   "source": [
    "import matplotlib.pyplot as plt\n",
    "from mpl_toolkits import mplot3d"
   ]
  },
  {
   "cell_type": "code",
   "execution_count": 7,
   "metadata": {
    "colab": {
     "base_uri": "https://localhost:8080/",
     "height": 37
    },
    "colab_type": "code",
    "id": "zT-cuafzciqi",
    "outputId": "c7201865-fc60-4b7c-d522-7f69d30508c2"
   },
   "outputs": [
    {
     "data": {
      "text/plain": [
       "'cpu'"
      ]
     },
     "execution_count": 7,
     "metadata": {},
     "output_type": "execute_result"
    }
   ],
   "source": [
    "device = 'cuda' if torch.cuda.is_available() else 'cpu'\n",
    "device"
   ]
  },
  {
   "cell_type": "code",
   "execution_count": 24,
   "metadata": {},
   "outputs": [],
   "source": [
    "def get_parabola(w, w0=None, y_min=-1, y_max=4):\n",
    "    y0 = np.linspace(y_min, y_max, 10000)\n",
    "    x1 = 0.5*(-1*(-w[0]*y0 - w[2])+np.sqrt((-w[0]*y0-w[2])**2-4*(-w[1]*y0**2 - w[3]*y0-w[4])))\n",
    "    x2 = 0.5*(-1*(-w[0]*y0 - w[2])-np.sqrt((-w[0]*y0-w[2])**2-4*(-w[1]*y0**2 - w[3]*y0-w[4])))\n",
    "\n",
    "    y_all = np.hstack([y0[::-1], y0])\n",
    "    x_all = np.hstack([x1[::-1], x2])\n",
    "    \n",
    "\n",
    "    return x_all, y_all"
   ]
  },
  {
   "cell_type": "code",
   "execution_count": 119,
   "metadata": {
    "colab": {},
    "colab_type": "code",
    "id": "8IIok0Acciqm"
   },
   "outputs": [],
   "source": [
    "def get_data(beta=0.1, l=200):\n",
    "    np.random.seed(0)\n",
    "\n",
    "    t = np.linspace(-2, 2, l)\n",
    "\n",
    "    p = 0.5\n",
    "    alpha = 0.9\n",
    "    x0 = 0\n",
    "    y0 = 0\n",
    "\n",
    "    x=x1=((t**2)/(2*p))*np.cos(alpha)-t*np.sin(alpha)+x0\n",
    "    y=y1=((t**2)/(2*p))*np.sin(alpha)+t*np.cos(alpha)+y0\n",
    "    X = np.vstack([x*y, y**2, x, y, np.ones_like(x)]).T\n",
    "    Y = x**2\n",
    "    w1 = np.linalg.inv(X.T@X)@X.T@Y\n",
    "    x1 += beta*np.random.randn(l)\n",
    "    y1 += beta*np.random.randn(l)\n",
    "\n",
    "\n",
    "    p = 0.3\n",
    "    alpha = 2\n",
    "    x0 = 5\n",
    "    y0 = 5\n",
    "    x=x2=((t**2)/(2*p))*np.cos(alpha)-t*np.sin(alpha)+x0\n",
    "    y=y2=((t**2)/(2*p))*np.sin(alpha)+t*np.cos(alpha)+y0\n",
    "    X = np.vstack([x*y, y**2, x, y, np.ones_like(x)]).T\n",
    "    Y = x**2\n",
    "    w2 = np.linalg.inv(X.T@X)@X.T@Y\n",
    "    x2 += beta*np.random.randn(l)\n",
    "    y2 += beta*np.random.randn(l)\n",
    "\n",
    "\n",
    "    x = np.hstack([x1, x2])\n",
    "    y = np.hstack([y1, y2])\n",
    "    \n",
    "    return x, y, w1, w2"
   ]
  },
  {
   "cell_type": "code",
   "execution_count": 120,
   "metadata": {
    "colab": {},
    "colab_type": "code",
    "id": "r0-w5guaciqr"
   },
   "outputs": [],
   "source": [
    "betas = np.linspace(0.0, 0.5, 20)\n",
    "betas[0] = 0.001\n",
    "gammas = np.linspace(0.0, 1.0, 20)\n",
    "gammas[0] = 0.0001\n",
    "grid = ParameterGrid({'beta': betas, \n",
    "                      'gamma': gammas})"
   ]
  },
  {
   "cell_type": "code",
   "execution_count": 176,
   "metadata": {},
   "outputs": [],
   "source": [
    "def R(W):\n",
    "    V = W\n",
    "    V = V.transpose(0, 1)\n",
    "    mu = 10000000000.0\n",
    "    return -mu * ((V[0]**2 - 4*V[1])**2)[0]"
   ]
  },
  {
   "cell_type": "code",
   "execution_count": 177,
   "metadata": {},
   "outputs": [],
   "source": [
    "item = {'gamma': 0.1, 'beta': 0.4}\n",
    "\n",
    "x, y, w1, w2 = get_data(beta=item['beta'])\n",
    "\n",
    "X = np.vstack([x*y, y**2, x, y, np.ones_like(x)]).T\n",
    "Y = x**2\n",
    "\n",
    "X_tr = torch.FloatTensor(X).to(device)\n",
    "Y_tr = torch.FloatTensor(Y).view([-1,1]).to(device)\n",
    "\n",
    "LIST_A = [torch.FloatTensor([item['gamma']]*n).to(device) for _ in range(K)]\n",
    "LIST_w = [torch.FloatTensor(w1).view(-1,1).to(device),  \n",
    "          torch.FloatTensor(w2).view(-1,1).to(device)]\n",
    "\n",
    "LoM = []\n",
    "for k in range(K):\n",
    "    LoM.append(EachModelLinear(input_dim = n, \n",
    "                               device = device, \n",
    "                               A = LIST_A[k], \n",
    "                               w = LIST_w[k],\n",
    "                               OptimizedHyper={}))\n",
    "\n",
    "\n",
    "HypPar = {'beta': item['beta']}\n",
    "\n",
    "Rg = RegularizeFunc(ListOfModels = LoM, R=R, device=device, epoch=100)\n",
    "\n",
    "HpMd = HyperExpertNN(input_dim=5, output_dim = K, device = device)\n",
    "\n",
    "model = MixtureEM(HyperParameters = HypPar,\n",
    "                  HyperModel = HpMd, \n",
    "                  ListOfModels = LoM,\n",
    "                  ListOfRegularizeModel=[Rg],\n",
    "                  device = device, model_type='sample')\n",
    "\n"
   ]
  },
  {
   "cell_type": "code",
   "execution_count": 178,
   "metadata": {},
   "outputs": [],
   "source": [
    "model.fit(X_tr, Y_tr, 10)"
   ]
  },
  {
   "cell_type": "code",
   "execution_count": 179,
   "metadata": {},
   "outputs": [
    {
     "name": "stderr",
     "output_type": "stream",
     "text": [
      "/Library/Frameworks/Python.framework/Versions/3.6/lib/python3.6/site-packages/ipykernel_launcher.py:3: RuntimeWarning: invalid value encountered in sqrt\n",
      "  This is separate from the ipykernel package so we can avoid doing imports until\n",
      "/Library/Frameworks/Python.framework/Versions/3.6/lib/python3.6/site-packages/ipykernel_launcher.py:4: RuntimeWarning: invalid value encountered in sqrt\n",
      "  after removing the cwd from sys.path.\n"
     ]
    },
    {
     "data": {
      "image/png": "[encoded data removed]",
      "text/plain": [
       "<Figure size 432x288 with 1 Axes>"
      ]
     },
     "metadata": {
      "needs_background": "light"
     },
     "output_type": "display_data"
    }
   ],
   "source": [
    "colors = ['black', 'grey', 'red', 'yellow', 'blue']\n",
    "\n",
    "w1_pred = LoM[0].W.view(-1).cpu().numpy()\n",
    "w2_pred = LoM[1].W.view(-1).cpu().numpy()\n",
    "w_pred = [w1_pred, w2_pred]\n",
    "\n",
    "idx = np.argmax(model.predict(X_tr)[1], axis = 1)\n",
    "\n",
    "plt.xlim((np.min(x)-1, np.max(x)+1))\n",
    "plt.ylim((np.min(y)-1, np.max(y)+1))\n",
    "\n",
    "for k in range(K):\n",
    "    _ = plt.plot(\n",
    "        *get_parabola(w_pred[k], y_min=np.min(y)-10, \n",
    "                      y_max=np.max(y)+10), color = colors[k])\n",
    "\n",
    "\n",
    "for i in range(len(model.ListOfModels)):\n",
    "    _ = plt.plot(\n",
    "        x[idx == i], y[idx == i], '.', color = colors[i], \n",
    "        label = 'model '+str(i+1))\n",
    "\n"
   ]
  },
  {
   "cell_type": "code",
   "execution_count": 175,
   "metadata": {
    "colab": {
     "base_uri": "https://localhost:8080/",
     "height": 66,
     "referenced_widgets": [
      "8aa13365d5184a65808f3066c0e1a27f",
      "d3d00fc187c34a37b0cc1773ea7ae1c2",
      "aa5dd7c027d3451c90e0f59404481fd9",
      "555c49c11191459b906dd1b9453462f2",
      "defbd5f5aef34722adc441f96ac7309f",
      "65b1743d79cc4ea193f0a1f277d3bb56",
      "1ceae568c09442a990b6dcb50ccf0d3a",
      "74ebee05f33b46bab421638081394a90"
     ]
    },
    "colab_type": "code",
    "id": "y4_vql6Eciqu",
    "outputId": "32c4f2c6-0fe8-42aa-c1ea-7b4551aed0ea"
   },
   "outputs": [
    {
     "data": {
      "application/vnd.jupyter.widget-view+json": {
       "model_id": "c5dd1a8a34484961b313c6d59b9d8dd6",
       "version_major": 2,
       "version_minor": 0
      },
      "text/plain": [
       "HBox(children=(FloatProgress(value=0.0, max=400.0), HTML(value='')))"
      ]
     },
     "metadata": {},
     "output_type": "display_data"
    },
    {
     "name": "stdout",
     "output_type": "stream",
     "text": [
      "\n"
     ]
    },
    {
     "ename": "KeyError",
     "evalue": "'models'",
     "output_type": "error",
     "traceback": [
      "\u001b[0;31m---------------------------------------------------------------------------\u001b[0m",
      "\u001b[0;31mKeyError\u001b[0m                                  Traceback (most recent call last)",
      "\u001b[0;32m<ipython-input-175-09385b5cec08>\u001b[0m in \u001b[0;36m<module>\u001b[0;34m\u001b[0m\n\u001b[1;32m     60\u001b[0m     \u001b[0;32mfor\u001b[0m \u001b[0m_\u001b[0m \u001b[0;32min\u001b[0m \u001b[0mrange\u001b[0m\u001b[0;34m(\u001b[0m\u001b[0mepochs\u001b[0m\u001b[0;34m)\u001b[0m\u001b[0;34m:\u001b[0m\u001b[0;34m\u001b[0m\u001b[0m\n\u001b[1;32m     61\u001b[0m         \u001b[0mmodel\u001b[0m\u001b[0;34m.\u001b[0m\u001b[0mfit\u001b[0m\u001b[0;34m(\u001b[0m\u001b[0mX_tr\u001b[0m\u001b[0;34m,\u001b[0m \u001b[0mY_tr\u001b[0m\u001b[0;34m,\u001b[0m \u001b[0;36m1\u001b[0m\u001b[0;34m)\u001b[0m\u001b[0;34m\u001b[0m\u001b[0m\n\u001b[0;32m---> 62\u001b[0;31m         \u001b[0mexperiment_dict\u001b[0m\u001b[0;34m[\u001b[0m\u001b[0;34m'results'\u001b[0m\u001b[0;34m]\u001b[0m\u001b[0;34m[\u001b[0m\u001b[0mkey\u001b[0m\u001b[0;34m]\u001b[0m\u001b[0;34m[\u001b[0m\u001b[0;34m'models'\u001b[0m\u001b[0;34m]\u001b[0m\u001b[0;34m.\u001b[0m\u001b[0mappend\u001b[0m\u001b[0;34m(\u001b[0m\u001b[0mmodel\u001b[0m\u001b[0;34m)\u001b[0m\u001b[0;34m\u001b[0m\u001b[0m\n\u001b[0m\u001b[1;32m     63\u001b[0m \u001b[0;34m\u001b[0m\u001b[0m\n\u001b[1;32m     64\u001b[0m     \u001b[0mw1_pred\u001b[0m \u001b[0;34m=\u001b[0m \u001b[0mLoM\u001b[0m\u001b[0;34m[\u001b[0m\u001b[0;36m0\u001b[0m\u001b[0;34m]\u001b[0m\u001b[0;34m.\u001b[0m\u001b[0mW\u001b[0m\u001b[0;34m.\u001b[0m\u001b[0mview\u001b[0m\u001b[0;34m(\u001b[0m\u001b[0;34m-\u001b[0m\u001b[0;36m1\u001b[0m\u001b[0;34m)\u001b[0m\u001b[0;34m.\u001b[0m\u001b[0mcpu\u001b[0m\u001b[0;34m(\u001b[0m\u001b[0;34m)\u001b[0m\u001b[0;34m.\u001b[0m\u001b[0mnumpy\u001b[0m\u001b[0;34m(\u001b[0m\u001b[0;34m)\u001b[0m\u001b[0;34m\u001b[0m\u001b[0m\n",
      "\u001b[0;31mKeyError\u001b[0m: 'models'"
     ]
    }
   ],
   "source": [
    "K = 2\n",
    "n = 5\n",
    "epochs = 10\n",
    "\n",
    "experiment_dict = dict()\n",
    "\n",
    "experiment_dict['betas'] = grid.param_grid[0]['beta']\n",
    "experiment_dict['gammas'] = grid.param_grid[0]['gamma']\n",
    "\n",
    "experiment_dict['K'] = K\n",
    "experiment_dict['n'] = n\n",
    "experiment_dict['epochs'] = epochs\n",
    "\n",
    "experiment_dict['results'] = dict()\n",
    "\n",
    "for item in tqdm(grid):\n",
    "    key = json.dumps(item)\n",
    "    experiment_dict['results'][key] = dict()\n",
    "\n",
    "    x, y, w1, w2 = get_data(beta=item['beta'])\n",
    "    \n",
    "    experiment_dict['results'][key]['x'] = x\n",
    "    experiment_dict['results'][key]['y'] = y\n",
    "    experiment_dict['results'][key]['w_real'] = [w1, w2]\n",
    "    \n",
    "    X = np.vstack([x*y, y**2, x, y, np.ones_like(x)]).T\n",
    "    Y = x**2\n",
    "\n",
    "    X_tr = torch.FloatTensor(X).to(device)\n",
    "    Y_tr = torch.FloatTensor(Y).view([-1,1]).to(device)\n",
    "\n",
    "\n",
    "    LIST_A = [torch.FloatTensor([item['gamma']]*n).to(device) for _ in range(K)]\n",
    "    LIST_w = [torch.FloatTensor(w1).view(-1,1).to(device),  \n",
    "              torch.FloatTensor(w2).view(-1,1).to(device)]\n",
    "\n",
    "\n",
    "    LoM = []\n",
    "    for k in range(K):\n",
    "        LoM.append(EachModelLinear(input_dim = n, \n",
    "                                   device = device, \n",
    "                                   A = LIST_A[k], \n",
    "                                   w = LIST_w[k],\n",
    "                                   OptimizedHyper={}))\n",
    "\n",
    "\n",
    "    HypPar = {'beta': item['beta'], 'alpha': 1e-5}\n",
    "\n",
    "    Rg = RegularizeFunc(ListOfModels = LoM, R=R, device=device)\n",
    "\n",
    "    HpMd = HyperExpertNN(input_dim=5, output_dim = K, device = device)\n",
    "\n",
    "    model = MixtureEM(HyperParameters = HypPar,\n",
    "                      HyperModel = HpMd, \n",
    "                      ListOfModels = LoM,\n",
    "                      ListOfRegularizeModel=[Rg],\n",
    "                      device = device, model_type='sample')\n",
    "\n",
    "    experiment_dict['results'][key]['modbels'] = []\n",
    "    for _ in range(epochs):\n",
    "        model.fit(X_tr, Y_tr, 1)\n",
    "        experiment_dict['results'][key]['models'].append(model)\n",
    "\n",
    "    w1_pred = LoM[0].W.view(-1).cpu().numpy()\n",
    "    w2_pred = LoM[1].W.view(-1).cpu().numpy()\n",
    "\n",
    "    experiment_dict['results'][key]['w_pred'] = [w1_pred, w2_pred]\n",
    "    experiment_dict['results'][key]['model'] = model"
   ]
  },
  {
   "cell_type": "code",
   "execution_count": null,
   "metadata": {},
   "outputs": [],
   "source": []
  },
  {
   "cell_type": "code",
   "execution_count": 3,
   "metadata": {
    "colab": {},
    "colab_type": "code",
    "id": "oevMsNo-ciqz"
   },
   "outputs": [
    {
     "ename": "NameError",
     "evalue": "name 'pickle' is not defined",
     "output_type": "error",
     "traceback": [
      "\u001b[0;31m---------------------------------------------------------------------------\u001b[0m",
      "\u001b[0;31mNameError\u001b[0m                                 Traceback (most recent call last)",
      "\u001b[0;32m<ipython-input-3-b13307b728ec>\u001b[0m in \u001b[0;36m<module>\u001b[0;34m\u001b[0m\n\u001b[1;32m      1\u001b[0m \u001b[0;32mwith\u001b[0m \u001b[0mopen\u001b[0m\u001b[0;34m(\u001b[0m\u001b[0;34m'./experiment_reg.pkl'\u001b[0m\u001b[0;34m,\u001b[0m \u001b[0;34m'wb'\u001b[0m\u001b[0;34m)\u001b[0m \u001b[0;32mas\u001b[0m \u001b[0mf\u001b[0m\u001b[0;34m:\u001b[0m\u001b[0;34m\u001b[0m\u001b[0m\n\u001b[0;32m----> 2\u001b[0;31m     \u001b[0mpickle\u001b[0m\u001b[0;34m.\u001b[0m\u001b[0mdump\u001b[0m\u001b[0;34m(\u001b[0m\u001b[0mexperiment_dict\u001b[0m\u001b[0;34m,\u001b[0m \u001b[0mf\u001b[0m\u001b[0;34m)\u001b[0m\u001b[0;34m\u001b[0m\u001b[0m\n\u001b[0m\u001b[1;32m      3\u001b[0m \u001b[0;34m\u001b[0m\u001b[0m\n",
      "\u001b[0;31mNameError\u001b[0m: name 'pickle' is not defined"
     ]
    }
   ],
   "source": [
    "# with open('./experiment_reg.pkl', 'wb') as f:\n",
    "#     pickle.dump(experiment_dict, f)\n",
    "    "
   ]
  },
  {
   "cell_type": "code",
   "execution_count": null,
   "metadata": {},
   "outputs": [],
   "source": []
  },
  {
   "cell_type": "code",
   "execution_count": null,
   "metadata": {},
   "outputs": [],
   "source": []
  }
 ],
 "metadata": {
  "colab": {
   "collapsed_sections": [],
   "name": "main.ipynb",
   "provenance": []
  },
  "kernelspec": {
   "display_name": "Python 3",
   "language": "python",
   "name": "python3"
  },
  "language_info": {
   "codemirror_mode": {
    "name": "ipython",
    "version": 3
   },
   "file_extension": ".py",
   "mimetype": "text/x-python",
   "name": "python",
   "nbconvert_exporter": "python",
   "pygments_lexer": "ipython3",
   "version": "3.6.2"
  },
  "widgets": {
   "application/vnd.jupyter.widget-state+json": {
    "1ceae568c09442a990b6dcb50ccf0d3a": {
     "model_module": "@jupyter-widgets/controls",
     "model_name": "DescriptionStyleModel",
     "state": {
      "_model_module": "@jupyter-widgets/controls",
      "_model_module_version": "1.5.0",
      "_model_name": "DescriptionStyleModel",
      "_view_count": null,
      "_view_module": "@jupyter-widgets/base",
      "_view_module_version": "1.2.0",
      "_view_name": "StyleView",
      "description_width": ""
     }
    },
    "555c49c11191459b906dd1b9453462f2": {
     "model_module": "@jupyter-widgets/controls",
     "model_name": "HTMLModel",
     "state": {
      "_dom_classes": [],
      "_model_module": "@jupyter-widgets/controls",
      "_model_module_version": "1.5.0",
      "_model_name": "HTMLModel",
      "_view_count": null,
      "_view_module": "@jupyter-widgets/controls",
      "_view_module_version": "1.5.0",
      "_view_name": "HTMLView",
      "description": "",
      "description_tooltip": null,
      "layout": "IPY_MODEL_74ebee05f33b46bab421638081394a90",
      "placeholder": "​",
      "style": "IPY_MODEL_1ceae568c09442a990b6dcb50ccf0d3a",
      "value": " 400/400 [49:00&lt;00:00,  7.35s/it]"
     }
    },
    "65b1743d79cc4ea193f0a1f277d3bb56": {
     "model_module": "@jupyter-widgets/base",
     "model_name": "LayoutModel",
     "state": {
      "_model_module": "@jupyter-widgets/base",
      "_model_module_version": "1.2.0",
      "_model_name": "LayoutModel",
      "_view_count": null,
      "_view_module": "@jupyter-widgets/base",
      "_view_module_version": "1.2.0",
      "_view_name": "LayoutView",
      "align_content": null,
      "align_items": null,
      "align_self": null,
      "border": null,
      "bottom": null,
      "display": null,
      "flex": null,
      "flex_flow": null,
      "grid_area": null,
      "grid_auto_columns": null,
      "grid_auto_flow": null,
      "grid_auto_rows": null,
      "grid_column": null,
      "grid_gap": null,
      "grid_row": null,
      "grid_template_areas": null,
      "grid_template_columns": null,
      "grid_template_rows": null,
      "height": null,
      "justify_content": null,
      "justify_items": null,
      "left": null,
      "margin": null,
      "max_height": null,
      "max_width": null,
      "min_height": null,
      "min_width": null,
      "object_fit": null,
      "object_position": null,
      "order": null,
      "overflow": null,
      "overflow_x": null,
      "overflow_y": null,
      "padding": null,
      "right": null,
      "top": null,
      "visibility": null,
      "width": null
     }
    },
    "74ebee05f33b46bab421638081394a90": {
     "model_module": "@jupyter-widgets/base",
     "model_name": "LayoutModel",
     "state": {
      "_model_module": "@jupyter-widgets/base",
      "_model_module_version": "1.2.0",
      "_model_name": "LayoutModel",
      "_view_count": null,
      "_view_module": "@jupyter-widgets/base",
      "_view_module_version": "1.2.0",
      "_view_name": "LayoutView",
      "align_content": null,
      "align_items": null,
      "align_self": null,
      "border": null,
      "bottom": null,
      "display": null,
      "flex": null,
      "flex_flow": null,
      "grid_area": null,
      "grid_auto_columns": null,
      "grid_auto_flow": null,
      "grid_auto_rows": null,
      "grid_column": null,
      "grid_gap": null,
      "grid_row": null,
      "grid_template_areas": null,
      "grid_template_columns": null,
      "grid_template_rows": null,
      "height": null,
      "justify_content": null,
      "justify_items": null,
      "left": null,
      "margin": null,
      "max_height": null,
      "max_width": null,
      "min_height": null,
      "min_width": null,
      "object_fit": null,
      "object_position": null,
      "order": null,
      "overflow": null,
      "overflow_x": null,
      "overflow_y": null,
      "padding": null,
      "right": null,
      "top": null,
      "visibility": null,
      "width": null
     }
    },
    "8aa13365d5184a65808f3066c0e1a27f": {
     "model_module": "@jupyter-widgets/controls",
     "model_name": "HBoxModel",
     "state": {
      "_dom_classes": [],
      "_model_module": "@jupyter-widgets/controls",
      "_model_module_version": "1.5.0",
      "_model_name": "HBoxModel",
      "_view_count": null,
      "_view_module": "@jupyter-widgets/controls",
      "_view_module_version": "1.5.0",
      "_view_name": "HBoxView",
      "box_style": "",
      "children": [
       "IPY_MODEL_aa5dd7c027d3451c90e0f59404481fd9",
       "IPY_MODEL_555c49c11191459b906dd1b9453462f2"
      ],
      "layout": "IPY_MODEL_d3d00fc187c34a37b0cc1773ea7ae1c2"
     }
    },
    "aa5dd7c027d3451c90e0f59404481fd9": {
     "model_module": "@jupyter-widgets/controls",
     "model_name": "FloatProgressModel",
     "state": {
      "_dom_classes": [],
      "_model_module": "@jupyter-widgets/controls",
      "_model_module_version": "1.5.0",
      "_model_name": "FloatProgressModel",
      "_view_count": null,
      "_view_module": "@jupyter-widgets/controls",
      "_view_module_version": "1.5.0",
      "_view_name": "ProgressView",
      "bar_style": "success",
      "description": "100%",
      "description_tooltip": null,
      "layout": "IPY_MODEL_65b1743d79cc4ea193f0a1f277d3bb56",
      "max": 400,
      "min": 0,
      "orientation": "horizontal",
      "style": "IPY_MODEL_defbd5f5aef34722adc441f96ac7309f",
      "value": 400
     }
    },
    "d3d00fc187c34a37b0cc1773ea7ae1c2": {
     "model_module": "@jupyter-widgets/base",
     "model_name": "LayoutModel",
     "state": {
      "_model_module": "@jupyter-widgets/base",
      "_model_module_version": "1.2.0",
      "_model_name": "LayoutModel",
      "_view_count": null,
      "_view_module": "@jupyter-widgets/base",
      "_view_module_version": "1.2.0",
      "_view_name": "LayoutView",
      "align_content": null,
      "align_items": null,
      "align_self": null,
      "border": null,
      "bottom": null,
      "display": null,
      "flex": null,
      "flex_flow": null,
      "grid_area": null,
      "grid_auto_columns": null,
      "grid_auto_flow": null,
      "grid_auto_rows": null,
      "grid_column": null,
      "grid_gap": null,
      "grid_row": null,
      "grid_template_areas": null,
      "grid_template_columns": null,
      "grid_template_rows": null,
      "height": null,
      "justify_content": null,
      "justify_items": null,
      "left": null,
      "margin": null,
      "max_height": null,
      "max_width": null,
      "min_height": null,
      "min_width": null,
      "object_fit": null,
      "object_position": null,
      "order": null,
      "overflow": null,
      "overflow_x": null,
      "overflow_y": null,
      "padding": null,
      "right": null,
      "top": null,
      "visibility": null,
      "width": null
     }
    },
    "defbd5f5aef34722adc441f96ac7309f": {
     "model_module": "@jupyter-widgets/controls",
     "model_name": "ProgressStyleModel",
     "state": {
      "_model_module": "@jupyter-widgets/controls",
      "_model_module_version": "1.5.0",
      "_model_name": "ProgressStyleModel",
      "_view_count": null,
      "_view_module": "@jupyter-widgets/base",
      "_view_module_version": "1.2.0",
      "_view_name": "StyleView",
      "bar_color": null,
      "description_width": "initial"
     }
    }
   }
  }
 },
 "nbformat": 4,
 "nbformat_minor": 1
}
