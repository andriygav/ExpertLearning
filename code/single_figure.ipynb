{
 "cells": [
  {
   "cell_type": "code",
   "execution_count": 1,
   "metadata": {},
   "outputs": [],
   "source": [
    "import numpy as np\n",
    "\n",
    "import matplotlib.pyplot as plt\n",
    "\n",
    "import pandas as pd\n",
    "\n",
    "from matplotlib import gridspec\n",
    "\n",
    "from sklearn.preprocessing import scale\n",
    "\n",
    "from tqdm.notebook import tqdm\n",
    "\n",
    "import json\n",
    "\n",
    "import torch\n",
    "import torch.nn as nn\n",
    "import torch.nn.functional as F\n",
    "\n",
    "from torch.utils.data import DataLoader\n",
    "\n",
    "from torch.utils.data import Dataset\n",
    "\n",
    "from sklearn.utils import shuffle\n",
    "from scipy.special import softmax\n",
    "\n",
    "from PIL import Image\n",
    "\n",
    "from PIL import ImageDraw\n",
    "\n",
    "from skimage import morphology\n",
    "\n",
    "import pickle\n",
    "\n",
    "from sklearn.model_selection import ParameterGrid"
   ]
  },
  {
   "cell_type": "code",
   "execution_count": 2,
   "metadata": {},
   "outputs": [],
   "source": [
    "from mixturelib.mixture import MixtureEM\n",
    "from mixturelib.local_models import EachModelLinear, EachModel\n",
    "from mixturelib.hyper_models import HyperExpertNN, HyperModelDirichlet\n",
    "\n",
    "from mixturelib.regularizers import RegularizeModel"
   ]
  },
  {
   "cell_type": "code",
   "execution_count": 3,
   "metadata": {},
   "outputs": [],
   "source": [
    "import matplotlib.pyplot as plt\n",
    "from mpl_toolkits import mplot3d"
   ]
  },
  {
   "cell_type": "code",
   "execution_count": 4,
   "metadata": {},
   "outputs": [
    {
     "data": {
      "text/plain": [
       "'cpu'"
      ]
     },
     "execution_count": 4,
     "metadata": {},
     "output_type": "execute_result"
    }
   ],
   "source": [
    "device = 'cuda' if torch.cuda.is_available() else 'cpu'\n",
    "device"
   ]
  },
  {
   "cell_type": "code",
   "execution_count": 7,
   "metadata": {},
   "outputs": [],
   "source": [
    "def get_data(beta=0.1, l=200):\n",
    "    np.random.seed(0)\n",
    "\n",
    "    t = np.linspace(-2, 2, l)\n",
    "\n",
    "    p = 0.5\n",
    "    alpha = 0.9\n",
    "    x0 = 0\n",
    "    y0 = 0\n",
    "\n",
    "    x=x1=((t**2)/(2*p))*np.cos(alpha)-t*np.sin(alpha)+x0\n",
    "    y=y1=((t**2)/(2*p))*np.sin(alpha)+t*np.cos(alpha)+y0\n",
    "    X = np.vstack([x*y, y**2, x, y, np.ones_like(x)]).T\n",
    "    Y = x**2\n",
    "    w1 = np.linalg.inv(X.T@X)@X.T@Y\n",
    "    x1 += beta*np.random.randn(l)\n",
    "    y1 += beta*np.random.randn(l)\n",
    "\n",
    "\n",
    "    p = 0.3\n",
    "    alpha = 2\n",
    "    x0 = 5\n",
    "    y0 = 5\n",
    "    x=x2=((t**2)/(2*p))*np.cos(alpha)-t*np.sin(alpha)+x0\n",
    "    y=y2=((t**2)/(2*p))*np.sin(alpha)+t*np.cos(alpha)+y0\n",
    "    X = np.vstack([x*y, y**2, x, y, np.ones_like(x)]).T\n",
    "    Y = x**2\n",
    "    w2 = np.linalg.inv(X.T@X)@X.T@Y\n",
    "    x2 += beta*np.random.randn(l)\n",
    "    y2 += beta*np.random.randn(l)\n",
    "\n",
    "\n",
    "    x = np.hstack([x1, x2])\n",
    "    y = np.hstack([y1, y2])\n",
    "    \n",
    "    return x, y, w1, w2"
   ]
  },
  {
   "cell_type": "code",
   "execution_count": 8,
   "metadata": {},
   "outputs": [],
   "source": [
    "x, y, w1, w2 = get_data(beta=0.1)"
   ]
  },
  {
   "cell_type": "code",
   "execution_count": 9,
   "metadata": {},
   "outputs": [],
   "source": [
    "X = np.vstack([x*y, y**2, x, y, np.ones_like(x)]).T\n",
    "Y = x**2"
   ]
  },
  {
   "cell_type": "code",
   "execution_count": 10,
   "metadata": {},
   "outputs": [],
   "source": [
    "X_tr = torch.FloatTensor(X).to(device)\n",
    "Y_tr = torch.FloatTensor(Y).view([-1,1]).to(device)"
   ]
  },
  {
   "cell_type": "code",
   "execution_count": null,
   "metadata": {},
   "outputs": [],
   "source": []
  }
 ],
 "metadata": {
  "kernelspec": {
   "display_name": "Python 3",
   "language": "python",
   "name": "python3"
  },
  "language_info": {
   "codemirror_mode": {
    "name": "ipython",
    "version": 3
   },
   "file_extension": ".py",
   "mimetype": "text/x-python",
   "name": "python",
   "nbconvert_exporter": "python",
   "pygments_lexer": "ipython3",
   "version": "3.6.2"
  }
 },
 "nbformat": 4,
 "nbformat_minor": 4
}
