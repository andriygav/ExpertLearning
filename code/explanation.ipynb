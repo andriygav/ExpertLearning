{
 "cells": [
  {
   "cell_type": "code",
   "execution_count": 1,
   "metadata": {},
   "outputs": [],
   "source": [
    "import numpy as np\n",
    "import matplotlib.pyplot as plt\n",
    "import time\n",
    "from tqdm import tqdm\n",
    "\n",
    "from sklearn.decomposition import PCA\n",
    "\n",
    "import matplotlib.pyplot as plt\n",
    "from mpl_toolkits.mplot3d.proj3d import proj_transform\n",
    "from mpl_toolkits.mplot3d.axes3d import Axes3D\n",
    "\n",
    "from matplotlib.image import imread\n",
    "from mpl_toolkits import mplot3d\n",
    "from matplotlib import gridspec\n",
    "\n",
    "from sklearn.linear_model import LinearRegression"
   ]
  },
  {
   "cell_type": "code",
   "execution_count": 2,
   "metadata": {},
   "outputs": [],
   "source": [
    "plt.rcParams[\"font.family\"] = 'DejaVu Sans'\n",
    "\n",
    "plt.rcParams['text.usetex'] = True"
   ]
  },
  {
   "cell_type": "code",
   "execution_count": 3,
   "metadata": {},
   "outputs": [],
   "source": [
    "def get_data(beta=0.1, l=200):\n",
    "    np.random.seed(0)\n",
    "\n",
    "    t = np.linspace(-1, 1, l)\n",
    "\n",
    "    p = 0.3\n",
    "    alpha = np.pi/2\n",
    "    x0 = -1\n",
    "    y0 = -1\n",
    "\n",
    "    x=x1=((t**2)/(2*p))*np.cos(alpha)-t*np.sin(alpha)+x0\n",
    "    y=y1=((t**2)/(2*p))*np.sin(alpha)+t*np.cos(alpha)+y0\n",
    "    X = np.vstack([x*y, y**2, x, y, np.ones_like(x)]).T\n",
    "    Y = x**2\n",
    "    w1 = np.linalg.inv(X.T@X)@X.T@Y\n",
    "    x1 += beta*np.random.randn(l)\n",
    "    y1 += beta*np.random.randn(l)\n",
    "\n",
    "\n",
    "    p = 0.3\n",
    "    alpha = -np.pi/2\n",
    "    x0 = 1\n",
    "    y0 = 1\n",
    "    x=x2=((t**2)/(2*p))*np.cos(alpha)-t*np.sin(alpha)+x0\n",
    "    y=y2=((t**2)/(2*p))*np.sin(alpha)+t*np.cos(alpha)+y0\n",
    "    X = np.vstack([x*y, y**2, x, y, np.ones_like(x)]).T\n",
    "    Y = x**2\n",
    "    w2 = np.linalg.inv(X.T@X)@X.T@Y\n",
    "    x2 += beta*np.random.randn(l)\n",
    "    y2 += beta*np.random.randn(l)\n",
    "\n",
    "\n",
    "    x = np.hstack([x1, x2])\n",
    "    y = np.hstack([y1, y2])\n",
    "    \n",
    "    _type = np.hstack([0*np.ones_like(x1), 1*np.ones_like(x2)])\n",
    "    \n",
    "    return x, y, w1, w2, _type"
   ]
  },
  {
   "cell_type": "code",
   "execution_count": 4,
   "metadata": {},
   "outputs": [],
   "source": [
    "x, y, w1, w2, _type = get_data(beta=0.01, l=25)"
   ]
  },
  {
   "cell_type": "code",
   "execution_count": 5,
   "metadata": {},
   "outputs": [],
   "source": [
    "X = np.vstack([x*y, y**2, x, y, np.ones_like(x)]).T\n",
    "Z = x**2"
   ]
  },
  {
   "cell_type": "code",
   "execution_count": 6,
   "metadata": {},
   "outputs": [
    {
     "data": {
      "image/png": "[encoded data removed]",
      "text/plain": [
       "<Figure size 288x288 with 1 Axes>"
      ]
     },
     "metadata": {
      "needs_background": "light"
     },
     "output_type": "display_data"
    }
   ],
   "source": [
    "fig = plt.figure(figsize=(4,4))\n",
    "\n",
    "\n",
    "for i in np.unique(_type):\n",
    "    plt.plot(x[_type==i], y[_type==i], '.')\n",
    "\n",
    "plt.show()"
   ]
  },
  {
   "cell_type": "code",
   "execution_count": 7,
   "metadata": {},
   "outputs": [],
   "source": [
    "feature_2d = PCA(n_components= 2).fit_transform(X)"
   ]
  },
  {
   "cell_type": "code",
   "execution_count": 8,
   "metadata": {},
   "outputs": [],
   "source": [
    "models = []\n",
    "for i in np.unique(_type):\n",
    "    model = LinearRegression()\n",
    "    model.fit(feature_2d[_type==i], Z[_type==i])\n",
    "    models.append(model)"
   ]
  },
  {
   "cell_type": "code",
   "execution_count": 9,
   "metadata": {},
   "outputs": [],
   "source": [
    "X, Y = np.meshgrid(\n",
    "    np.linspace(\n",
    "        int(np.min(feature_2d[:,0]))-1, \n",
    "        int(np.max(feature_2d[:,0]))+1, 2), \n",
    "    np.linspace(\n",
    "        int(np.min(feature_2d[:,1]))-1, \n",
    "        int(np.max(feature_2d[:,1]))+1, 2))\n",
    "\n",
    "new_Z = [np.zeros_like(X) for _ in np.unique(_type)]\n",
    "for i in range(len(X)):\n",
    "    for j in np.unique(_type):\n",
    "        new_Z[int(j)][i] = models[int(j)].predict(np.vstack([X[i], Y[i]]).T)"
   ]
  },
  {
   "cell_type": "code",
   "execution_count": 16,
   "metadata": {},
   "outputs": [
    {
     "ename": "AttributeError",
     "evalue": "'Axes3DSubplot' object has no attribute 'save_fig'",
     "output_type": "error",
     "traceback": [
      "\u001b[0;31m---------------------------------------------------------------------------\u001b[0m",
      "\u001b[0;31mAttributeError\u001b[0m                            Traceback (most recent call last)",
      "\u001b[0;32m<ipython-input-16-f0690eb04e34>\u001b[0m in \u001b[0;36m<module>\u001b[0;34m\u001b[0m\n\u001b[1;32m     80\u001b[0m \u001b[0max3\u001b[0m\u001b[0;34m.\u001b[0m\u001b[0mlegend\u001b[0m\u001b[0;34m(\u001b[0m\u001b[0mloc\u001b[0m\u001b[0;34m=\u001b[0m\u001b[0;34m'best'\u001b[0m\u001b[0;34m)\u001b[0m\u001b[0;34m\u001b[0m\u001b[0m\n\u001b[1;32m     81\u001b[0m \u001b[0;34m\u001b[0m\u001b[0m\n\u001b[0;32m---> 82\u001b[0;31m \u001b[0max\u001b[0m\u001b[0;34m.\u001b[0m\u001b[0msave_fig\u001b[0m\u001b[0;34m(\u001b[0m\u001b[0;34m)\u001b[0m\u001b[0;34m\u001b[0m\u001b[0m\n\u001b[0m\u001b[1;32m     83\u001b[0m \u001b[0;34m\u001b[0m\u001b[0m\n\u001b[1;32m     84\u001b[0m \u001b[0mplt\u001b[0m\u001b[0;34m.\u001b[0m\u001b[0mshow\u001b[0m\u001b[0;34m(\u001b[0m\u001b[0;34m)\u001b[0m\u001b[0;34m\u001b[0m\u001b[0m\n",
      "\u001b[0;31mAttributeError\u001b[0m: 'Axes3DSubplot' object has no attribute 'save_fig'"
     ]
    },
    {
     "data": {
      "image/png": "[encoded data removed]",
      "text/plain": [
       "<Figure size 1440x432 with 3 Axes>"
      ]
     },
     "metadata": {
      "needs_background": "light"
     },
     "output_type": "display_data"
    }
   ],
   "source": [
    "plt.rcParams['legend.fontsize'] = 18\n",
    "plt.rcParams[\"legend.labelspacing\"] = 0.1\n",
    "plt.rcParams[\"legend.handletextpad\"] = 0.1\n",
    "#################################################\n",
    "\n",
    "colors = ['red', 'blue', 'green']\n",
    "\n",
    "fig = plt.figure(figsize=(20.0, 6.0), frameon=False)\n",
    "\n",
    "ax = fig.add_subplot(131, projection='3d')\n",
    "ax2 = fig.add_subplot(133, projection='3d')\n",
    "ax3 = fig.add_subplot(132)\n",
    "\n",
    "ax.plot_surface(X, Y, new_Z[0], color = colors[0], alpha=0.3)\n",
    "\n",
    "for i in np.unique(_type):\n",
    "    ax.plot(\n",
    "        feature_2d[_type==i, 0], \n",
    "        feature_2d[_type==i,1 ], \n",
    "        Z[_type==i], \n",
    "        'o', \n",
    "        color = colors[int(i)], \n",
    "        markersize=3, \n",
    "        label='$K_y^1$')\n",
    "    \n",
    "ax.plot(\n",
    "    feature_2d[:, 0], \n",
    "    feature_2d[:, 1], \n",
    "    Z*0, \n",
    "    'o', \n",
    "    color = colors[2], \n",
    "    markersize=3, \n",
    "    label='$K_x^1$')\n",
    "    \n",
    "ax2.plot_surface(X, Y, new_Z[1], color = colors[1], alpha=0.3)\n",
    "\n",
    "for i in np.unique(_type):\n",
    "    ax2.plot(\n",
    "        feature_2d[_type==i, 0], \n",
    "        feature_2d[_type==i,1 ], \n",
    "        Z[_type==i], \n",
    "        'o', \n",
    "        color = colors[int(i)], \n",
    "        markersize=3, \n",
    "        label='$K_y^2$')\n",
    "    \n",
    "ax2.plot(\n",
    "    feature_2d[:, 0], \n",
    "    feature_2d[:, 1], \n",
    "    Z*0, \n",
    "    'o', \n",
    "    color = colors[2], \n",
    "    markersize=3, \n",
    "    label='$K_x^2$')\n",
    "    \n",
    "    \n",
    "for i in np.unique(_type):\n",
    "    ax3.plot(\n",
    "        x[_type==i], \n",
    "        y[_type==i], \n",
    "        '.', \n",
    "        color = colors[int(i)], \n",
    "        markersize=3, \n",
    "        label='figure {}'.format(int(i)+1))\n",
    "\n",
    "\n",
    "\n",
    "ax.view_init(-2.5, -70)\n",
    "ax.set_zlim((0,6))\n",
    "ax.axis('off')\n",
    "\n",
    "ax2.view_init(-2.5, -110)\n",
    "ax2.set_zlim((0,6))\n",
    "ax2.axis('off')\n",
    "\n",
    "ax3.axis('off')\n",
    "\n",
    "ax.legend(loc='best')\n",
    "ax2.legend(loc='best')\n",
    "ax3.legend(loc='best')\n",
    "\n",
    "plt.show()"
   ]
  },
  {
   "cell_type": "code",
   "execution_count": 20,
   "metadata": {},
   "outputs": [
    {
     "data": {
      "image/png": "[encoded data removed]",
      "text/plain": [
       "<Figure size 576x576 with 1 Axes>"
      ]
     },
     "metadata": {
      "needs_background": "light"
     },
     "output_type": "display_data"
    }
   ],
   "source": [
    "plt.rcParams['legend.fontsize'] = 18\n",
    "plt.rcParams[\"legend.labelspacing\"] = 0.1\n",
    "plt.rcParams[\"legend.handletextpad\"] = 0.1\n",
    "#################################################\n",
    "\n",
    "colors = ['red', 'blue', 'green']\n",
    "\n",
    "fig = plt.figure(figsize=(8.0, 8.0), frameon=False)\n",
    "\n",
    "ax = fig.add_subplot(111, projection='3d')\n",
    "\n",
    "ax.plot_surface(X, Y, new_Z[0], color = colors[0], alpha=0.3)\n",
    "\n",
    "for i in np.unique(_type):\n",
    "    ax.plot(\n",
    "        feature_2d[_type==i, 0], \n",
    "        feature_2d[_type==i,1 ], \n",
    "        Z[_type==i], \n",
    "        'o', \n",
    "        color = colors[int(i)], \n",
    "        markersize=3, \n",
    "        label='$K_y^1$')\n",
    "    \n",
    "ax.plot(\n",
    "    feature_2d[:, 0], \n",
    "    feature_2d[:, 1], \n",
    "    Z*0, \n",
    "    'o', \n",
    "    color = colors[2], \n",
    "    markersize=3, \n",
    "    label='$K_x^1$')\n",
    "    \n",
    "\n",
    "ax.view_init(-2.5, -70)\n",
    "ax.set_zlim((0,6))\n",
    "ax.axis('off')\n",
    "\n",
    "ax.legend(loc='best')\n",
    "\n",
    "plt.savefig('./figures/explanation_exp1.pdf', bbox_inches='tight')\n",
    "plt.show()"
   ]
  },
  {
   "cell_type": "code",
   "execution_count": 22,
   "metadata": {},
   "outputs": [
    {
     "data": {
      "image/png": "[encoded data removed]",
      "text/plain": [
       "<Figure size 576x576 with 1 Axes>"
      ]
     },
     "metadata": {
      "needs_background": "light"
     },
     "output_type": "display_data"
    }
   ],
   "source": [
    "plt.rcParams['legend.fontsize'] = 18\n",
    "plt.rcParams[\"legend.labelspacing\"] = 0.1\n",
    "plt.rcParams[\"legend.handletextpad\"] = 0.1\n",
    "#################################################\n",
    "\n",
    "colors = ['red', 'blue', 'green']\n",
    "\n",
    "fig = plt.figure(figsize=(8.0, 8.0), frameon=False)\n",
    "\n",
    "ax2 = fig.add_subplot(111, projection='3d')\n",
    "\n",
    "ax2.plot_surface(X, Y, new_Z[1], color = colors[1], alpha=0.3)\n",
    "\n",
    "for i in np.unique(_type):\n",
    "    ax2.plot(\n",
    "        feature_2d[_type==i, 0], \n",
    "        feature_2d[_type==i,1 ], \n",
    "        Z[_type==i], \n",
    "        'o', \n",
    "        color = colors[int(i)], \n",
    "        markersize=3, \n",
    "        label='$K_y^2$')\n",
    "    \n",
    "ax2.plot(\n",
    "    feature_2d[:, 0], \n",
    "    feature_2d[:, 1], \n",
    "    Z*0, \n",
    "    'o', \n",
    "    color = colors[2], \n",
    "    markersize=3, \n",
    "    label='$K_x^2$')\n",
    "    \n",
    "    \n",
    "ax2.view_init(-2.5, -110)\n",
    "ax2.set_zlim((0,6))\n",
    "ax2.axis('off')\n",
    "\n",
    "ax2.legend(loc='best')\n",
    "plt.savefig('./figures/explanation_exp2.pdf', bbox_inches='tight')\n",
    "plt.show()"
   ]
  },
  {
   "cell_type": "code",
   "execution_count": 27,
   "metadata": {},
   "outputs": [
    {
     "data": {
      "image/png": "[encoded data removed]",
      "text/plain": [
       "<Figure size 576x576 with 1 Axes>"
      ]
     },
     "metadata": {
      "needs_background": "light"
     },
     "output_type": "display_data"
    }
   ],
   "source": [
    "plt.rcParams['legend.fontsize'] = 18\n",
    "plt.rcParams[\"legend.labelspacing\"] = 0.1\n",
    "plt.rcParams[\"legend.handletextpad\"] = 0.1\n",
    "#################################################\n",
    "\n",
    "colors = ['red', 'blue', 'green']\n",
    "\n",
    "fig = plt.figure(figsize=(8.0, 8.0))\n",
    "\n",
    "ax3 = fig.add_subplot(111)    \n",
    "    \n",
    "for i in np.unique(_type):\n",
    "    ax3.plot(\n",
    "        x[_type==i], \n",
    "        y[_type==i], \n",
    "        '.', \n",
    "        color = colors[int(i)], \n",
    "        markersize=5, \n",
    "        label='figure {}'.format(int(i)+1))\n",
    "\n",
    "\n",
    "ax3.axis('off')\n",
    "ax3.legend(loc='best')\n",
    "plt.savefig('./figures/explanation.pdf', bbox_inches='tight')\n",
    "plt.show()"
   ]
  },
  {
   "cell_type": "code",
   "execution_count": null,
   "metadata": {},
   "outputs": [],
   "source": []
  }
 ],
 "metadata": {
  "kernelspec": {
   "display_name": "Python 3",
   "language": "python",
   "name": "python3"
  },
  "language_info": {
   "codemirror_mode": {
    "name": "ipython",
    "version": 3
   },
   "file_extension": ".py",
   "mimetype": "text/x-python",
   "name": "python",
   "nbconvert_exporter": "python",
   "pygments_lexer": "ipython3",
   "version": "3.6.2"
  }
 },
 "nbformat": 4,
 "nbformat_minor": 4
}
